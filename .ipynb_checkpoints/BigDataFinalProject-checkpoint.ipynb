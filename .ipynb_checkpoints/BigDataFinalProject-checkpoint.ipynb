{
 "cells": [
  {
   "cell_type": "markdown",
   "id": "297c792e",
   "metadata": {},
   "source": [
    "# Final Project\n",
    "Computational Analysis of Big Data\n",
    "<br>\n",
    "Daniel Svendsen\n",
    "<br>\n",
    "Will Langas, Jaymin West, & Maya Valliath\n",
    "<br>"
   ]
  },
  {
   "cell_type": "markdown",
   "id": "79f87f68",
   "metadata": {},
   "source": [
    "## Getting the Data"
   ]
  },
  {
   "cell_type": "markdown",
   "id": "d5eba4d3",
   "metadata": {},
   "source": [
    "We decided to focus on the top 5 stocks from  https://yolostocks.live/, which tracks the most mentioned stocks on r/wallstreetbets."
   ]
  },
  {
   "cell_type": "markdown",
   "id": "39b256e9",
   "metadata": {},
   "source": [
    "## Cleaning the Data"
   ]
  }
 ],
 "metadata": {
  "kernelspec": {
   "display_name": "Python 3 (ipykernel)",
   "language": "python",
   "name": "python3"
  },
  "language_info": {
   "codemirror_mode": {
    "name": "ipython",
    "version": 3
   },
   "file_extension": ".py",
   "mimetype": "text/x-python",
   "name": "python",
   "nbconvert_exporter": "python",
   "pygments_lexer": "ipython3",
   "version": "3.9.7"
  }
 },
 "nbformat": 4,
 "nbformat_minor": 5
}
