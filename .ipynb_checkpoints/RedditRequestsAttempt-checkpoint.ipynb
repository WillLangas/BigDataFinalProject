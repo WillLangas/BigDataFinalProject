{
 "cells": [
  {
   "cell_type": "markdown",
   "id": "4dfd1bf8",
   "metadata": {},
   "source": [
    "## r/WallStreetBets Sentiment Analysis"
   ]
  },
  {
   "cell_type": "code",
   "execution_count": 3,
   "id": "01eec148",
   "metadata": {},
   "outputs": [
    {
     "name": "stdout",
     "output_type": "stream",
     "text": [
      "Retrieved 25 posts from page \n",
      "Retrieved 25 posts from page t3_u151eu\n",
      "Retrieved 25 posts from page t3_u1ano4\n",
      "Retrieved 25 posts from page t3_u1kwif\n",
      "Retrieved 25 posts from page t3_u1ewfb\n",
      "Retrieved 25 posts from page t3_u1fu27\n",
      "Retrieved 25 posts from page t3_u17zki\n",
      "Retrieved 25 posts from page t3_u070ka\n",
      "Retrieved 25 posts from page t3_u07llw\n",
      "Retrieved 25 posts from page t3_tzutxs\n",
      "Retrieved 25 posts from page t3_tza9bq\n",
      "Retrieved 25 posts from page t3_tzbtzc\n",
      "Retrieved 25 posts from page t3_tyclb8\n",
      "Retrieved 25 posts from page t3_tyy59n\n",
      "Retrieved 25 posts from page t3_tymv2z\n",
      "Retrieved 25 posts from page t3_tyibpv\n",
      "Retrieved 25 posts from page t3_tyn6ec\n",
      "Retrieved 25 posts from page t3_ty0qzl\n",
      "Retrieved 25 posts from page t3_txyvla\n",
      "Retrieved 25 posts from page t3_ty65jk\n"
     ]
    }
   ],
   "source": [
    "import requests as rq\n",
    "\n",
    "def get_x_y(subreddit, N, count=25):\n",
    "    \n",
    "    def _get_data(subreddit, count, after):\n",
    "        url = \"https://www.reddit.com/r/%s/.json?count=%d&after=%s\" % (subreddit, count, after)\n",
    "        data = rq.get(url, headers = {'User-agent': 'sneakybot'}).json()\n",
    "        print(\"Retrieved %d posts from page %s\" % (count, after))\n",
    "        return data\n",
    "    \n",
    "    after = \"\"\n",
    "\n",
    "    x, y = [], []\n",
    "    for n in range(N//count):\n",
    "        data = _get_data(subreddit, count, after)\n",
    "        for d in data['data']['children']:\n",
    "            x.append(d['data']['num_comments'])\n",
    "            y.append(d['data']['score'])\n",
    "        after = data['data']['after']\n",
    "\n",
    "    return x, y\n",
    "                          \n",
    "x, y = get_x_y(\"wallstreetbets\", 500, count=25)"
   ]
  },
  {
   "cell_type": "code",
   "execution_count": 85,
   "id": "6c9e6053",
   "metadata": {},
   "outputs": [],
   "source": [
    "def get_post_titles(subreddit, num_posts, count=25, after=''):\n",
    "    url = \"https://www.reddit.com/r/%s/.json?count=%d&after=%s\" % (subreddit, count, after)\n",
    "    \n",
    "    posts = {}\n",
    "    \n",
    "    for i in range (num_posts//count):\n",
    "        data = rq.get(url, headers = {'User-agent': 'sneakybot'}).json()\n",
    "        print(\"Retrieved %d posts from page %s\" % (count, after))\n",
    "        title = data['data']['children'][i]['data']['permalink']\n",
    "        print(title)\n",
    "        ups = data['data']['children'][i]['data']['ups']\n",
    "        posts[title] = ups\n",
    "    \n",
    "    return posts"
   ]
  },
  {
   "cell_type": "code",
   "execution_count": 87,
   "id": "89653503",
   "metadata": {},
   "outputs": [
    {
     "name": "stdout",
     "output_type": "stream",
     "text": [
      "Retrieved 200 posts from page \n"
     ]
    },
    {
     "data": {
      "text/plain": [
       "{'Daily Discussion Thread for April 12, 2022': 76,\n",
       " 'Throwback from when President JFK spoke at our headquarters': 1086}"
      ]
     },
     "execution_count": 87,
     "metadata": {},
     "output_type": "execute_result"
    }
   ],
   "source": [
    "data = get_reddit_posts('wallstreetbets', 500)\n",
    "data"
   ]
  }
 ],
 "metadata": {
  "kernelspec": {
   "display_name": "Python 3 (ipykernel)",
   "language": "python",
   "name": "python3"
  },
  "language_info": {
   "codemirror_mode": {
    "name": "ipython",
    "version": 3
   },
   "file_extension": ".py",
   "mimetype": "text/x-python",
   "name": "python",
   "nbconvert_exporter": "python",
   "pygments_lexer": "ipython3",
   "version": "3.9.7"
  }
 },
 "nbformat": 4,
 "nbformat_minor": 5
}
