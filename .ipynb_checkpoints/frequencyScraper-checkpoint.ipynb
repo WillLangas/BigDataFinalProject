{
 "cells": [
  {
   "cell_type": "code",
   "execution_count": 4,
   "metadata": {},
   "outputs": [],
   "source": [
    "import praw\n",
    "from praw.models import MoreComments\n",
    "import tqdm\n",
    "import pandas as pd"
   ]
  },
  {
   "cell_type": "code",
   "execution_count": 5,
   "metadata": {},
   "outputs": [],
   "source": [
    "reddit = praw.Reddit(\n",
    "    client_id=\"p1dG7hgoowK4BSlUdar1WQ\",\n",
    "    client_secret=\"pEePtSnw7KMDZi6fCzkKaOth_pgKpQ\",\n",
    "    password=\"outdoortuesday\",\n",
    "    user_agent=\"Big Data by u/DISWillJayminMaya \",\n",
    "    username=\"DISWillJayminMaya \",\n",
    ")"
   ]
  },
  {
   "cell_type": "code",
   "execution_count": 6,
   "metadata": {},
   "outputs": [
    {
     "name": "stdout",
     "output_type": "stream",
     "text": [
      "DISWillJayminMaya\n"
     ]
    }
   ],
   "source": [
    "print(reddit.user.me())"
   ]
  },
  {
   "cell_type": "code",
   "execution_count": 7,
   "metadata": {},
   "outputs": [],
   "source": [
    "tickerlist = ['GME', 'Gamestop', 'SPY', 'TWTTR', 'Twitter', 'TSLA', 'Tesla', 'AMD']"
   ]
  },
  {
   "cell_type": "code",
   "execution_count": 8,
   "metadata": {},
   "outputs": [],
   "source": [
    "subreddit = reddit.subreddit('wallstreetbets')"
   ]
  },
  {
   "cell_type": "code",
   "execution_count": 9,
   "metadata": {},
   "outputs": [],
   "source": [
    "hot = subreddit.hot(limit=200)\n",
    "sum = [0] * len(tickerlist) # our output array\n",
    "counttotal = 0 # total number of comment read\n",
    "submissions_counter = 0"
   ]
  },
  {
   "cell_type": "code",
   "execution_count": null,
   "metadata": {},
   "outputs": [
    {
     "name": "stdout",
     "output_type": "stream",
     "text": [
      "i67k22q\n",
      "i67k82l\n",
      "i67lgt5\n",
      "i67nxh5\n",
      "i67mgph\n",
      "i68925j\n",
      "i68eh4b\n",
      "i68t076\n",
      "i68yu2b\n",
      "i682ua7\n",
      "i669ptn\n",
      "i66wgqf\n",
      "i6703c8\n",
      "i66rj8y\n",
      "i66eew7\n",
      "i679qk3\n",
      "i66rae0\n",
      "i67b2pu\n",
      "i66bn7l\n",
      "i66eyyf\n",
      "i66a9u8\n",
      "i669z4b\n",
      "i66blxu\n",
      "i66h3xr\n",
      "i66dhgd\n",
      "i68kdzj\n",
      "i68bpxn\n",
      "i68t2v3\n",
      "i68yfcq\n",
      "i66ezs1\n",
      "i68ayrs\n",
      "i67m3zx\n",
      "i67xc7t\n",
      "i67xu2u\n",
      "i67z44w\n",
      "i6839xl\n",
      "i67y8gs\n",
      "i67yj9e\n",
      "i67xx1v\n",
      "i6827t4\n",
      "i683cd0\n",
      "i6843kf\n",
      "i67y5me\n",
      "i6852cx\n",
      "i68lpdh\n",
      "i67zd3j\n",
      "i685g9n\n",
      "i687n3v\n",
      "i68as8c\n",
      "i68f0kl\n",
      "i68qus7\n",
      "i68qvwq\n",
      "i68yjcg\n"
     ]
    }
   ],
   "source": [
    "for submissions in hot:\n",
    "    if not submissions.stickied:\n",
    "        submissions_counter+=1\n",
    "        if submissions_counter > 5:\n",
    "            comments = submissions.comments\n",
    "            for comment in comments:\n",
    "                print(comment)\n",
    "                if isinstance(comment, MoreComments):\n",
    "                    continue\n",
    "                counttotal+=1\n",
    "                for i, ticker in enumerate(tickerlist):\n",
    "                    if ticker in comment.body:\n",
    "                        sum[i]=sum[i]+1"
   ]
  },
  {
   "cell_type": "code",
   "execution_count": null,
   "metadata": {},
   "outputs": [],
   "source": [
    "output=pd.DataFrame(data={'Tick': tickerlist, 'Counts': sum})\n",
    "print('Total comments read: ',counttotal)\n",
    "print(output[output['Counts']>0])"
   ]
  }
 ],
 "metadata": {
  "kernelspec": {
   "display_name": "Python 3 (ipykernel)",
   "language": "python",
   "name": "python3"
  },
  "language_info": {
   "codemirror_mode": {
    "name": "ipython",
    "version": 3
   },
   "file_extension": ".py",
   "mimetype": "text/x-python",
   "name": "python",
   "nbconvert_exporter": "python",
   "pygments_lexer": "ipython3",
   "version": "3.9.7"
  }
 },
 "nbformat": 4,
 "nbformat_minor": 4
}
