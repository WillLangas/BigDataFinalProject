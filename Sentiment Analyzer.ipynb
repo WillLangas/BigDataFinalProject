{
 "cells": [
  {
   "cell_type": "markdown",
   "id": "d3b8eab4",
   "metadata": {},
   "source": [
    "# Goal:\n",
    "Create pandas data frame for every stock with time on one side, mean, and spread compound sentiments."
   ]
  },
  {
   "cell_type": "code",
   "execution_count": 1,
   "id": "2dfba17e",
   "metadata": {},
   "outputs": [],
   "source": [
    "import pandas as pd\n",
    "import re, os\n",
    "import datetime\n",
    "import statistics\n",
    "import nltk\n",
    "from nltk.sentiment.vader import SentimentIntensityAnalyzer"
   ]
  },
  {
   "cell_type": "code",
   "execution_count": 2,
   "id": "b6d239be",
   "metadata": {},
   "outputs": [
    {
     "data": {
      "text/html": [
       "<div>\n",
       "<style scoped>\n",
       "    .dataframe tbody tr th:only-of-type {\n",
       "        vertical-align: middle;\n",
       "    }\n",
       "\n",
       "    .dataframe tbody tr th {\n",
       "        vertical-align: top;\n",
       "    }\n",
       "\n",
       "    .dataframe thead th {\n",
       "        text-align: right;\n",
       "    }\n",
       "</style>\n",
       "<table border=\"1\" class=\"dataframe\">\n",
       "  <thead>\n",
       "    <tr style=\"text-align: right;\">\n",
       "      <th></th>\n",
       "      <th>GME</th>\n",
       "      <th>Gamestop</th>\n",
       "      <th>SPY</th>\n",
       "      <th>TWTTR</th>\n",
       "      <th>Twitter</th>\n",
       "      <th>TSLA</th>\n",
       "      <th>Tesla</th>\n",
       "      <th>AMD</th>\n",
       "    </tr>\n",
       "  </thead>\n",
       "  <tbody>\n",
       "    <tr>\n",
       "      <th>1610233200</th>\n",
       "      <td>['Why would anyone do this? Of all the compani...</td>\n",
       "      <td>[\"You have some hope next week after Gamestops...</td>\n",
       "      <td>['[https://diamondhands.trade/?symbol=SPY&amp;stri...</td>\n",
       "      <td>[]</td>\n",
       "      <td>[]</td>\n",
       "      <td>[\"I won't lie, posts like these sends endorphi...</td>\n",
       "      <td>['No movement on Monday? Sell and put them int...</td>\n",
       "      <td>[]</td>\n",
       "    </tr>\n",
       "  </tbody>\n",
       "</table>\n",
       "</div>"
      ],
      "text/plain": [
       "                                                          GME  \\\n",
       "1610233200  ['Why would anyone do this? Of all the compani...   \n",
       "\n",
       "                                                     Gamestop  \\\n",
       "1610233200  [\"You have some hope next week after Gamestops...   \n",
       "\n",
       "                                                          SPY TWTTR Twitter  \\\n",
       "1610233200  ['[https://diamondhands.trade/?symbol=SPY&stri...    []      []   \n",
       "\n",
       "                                                         TSLA  \\\n",
       "1610233200  [\"I won't lie, posts like these sends endorphi...   \n",
       "\n",
       "                                                        Tesla AMD  \n",
       "1610233200  ['No movement on Monday? Sell and put them int...  []  "
      ]
     },
     "metadata": {},
     "output_type": "display_data"
    }
   ],
   "source": [
    "test = pd.read_csv(\"comment_data.csv\", index_col = 'Unnamed: 0')\n",
    "display(test)"
   ]
  },
  {
   "cell_type": "code",
   "execution_count": 3,
   "id": "88672b4b",
   "metadata": {},
   "outputs": [
    {
     "ename": "SyntaxError",
     "evalue": "invalid syntax (959898349.py, line 1)",
     "output_type": "error",
     "traceback": [
      "\u001b[0;36m  File \u001b[0;32m\"/var/folders/pg/g27743ln79z4q8t9hg0g2w0c0000gn/T/ipykernel_32909/959898349.py\"\u001b[0;36m, line \u001b[0;32m1\u001b[0m\n\u001b[0;31m    DateTime dt = new DateTime(1610233200);\u001b[0m\n\u001b[0m             ^\u001b[0m\n\u001b[0;31mSyntaxError\u001b[0m\u001b[0;31m:\u001b[0m invalid syntax\n"
     ]
    }
   ],
   "source": []
  },
  {
   "cell_type": "code",
   "execution_count": null,
   "id": "3e0f8018",
   "metadata": {},
   "outputs": [
    {
     "name": "stdout",
     "output_type": "stream",
     "text": [
      "Date = 2021-01-10 00:00:00\n"
     ]
    }
   ],
   "source": [
    "analyzer = SentimentIntensityAnalyzer()\n",
    "\n",
    "def returnListofScores(listofcomments):\n",
    "    templist=[]\n",
    "    for com in listofcomments:\n",
    "        temp = analyzer.polarity_scores(com)\n",
    "        compScore = temp['compound']\n",
    "        templist.append(compScore)\n",
    "    return templist\n",
    "\n",
    "#need language if list greater 0\n",
    "def returnMeanComp(listofScores)\n",
    "    return statistics.meam(listofScores)\n",
    "\n",
    "#need language if list greater than 1\n",
    "def returnspreadComp(listofScores)\n",
    "    return statistics.stdev(listofScores)"
   ]
  },
  {
   "cell_type": "code",
   "execution_count": null,
   "id": "2e4092bb",
   "metadata": {},
   "outputs": [],
   "source": []
  }
 ],
 "metadata": {
  "kernelspec": {
   "display_name": "Python 3 (ipykernel)",
   "language": "python",
   "name": "python3"
  },
  "language_info": {
   "codemirror_mode": {
    "name": "ipython",
    "version": 3
   },
   "file_extension": ".py",
   "mimetype": "text/x-python",
   "name": "python",
   "nbconvert_exporter": "python",
   "pygments_lexer": "ipython3",
   "version": "3.9.7"
  }
 },
 "nbformat": 4,
 "nbformat_minor": 5
}
