{
 "cells": [
  {
   "cell_type": "markdown",
   "id": "297c792e",
   "metadata": {},
   "source": [
    "# Final Project\n",
    "Computational Analysis of Big Data\n",
    "<br>\n",
    "Daniel Svendsen\n",
    "<br>\n",
    "Will Langas, Jaymin West, & Maya Valliath\n",
    "<br>"
   ]
  },
  {
   "cell_type": "markdown",
   "id": "79f87f68",
   "metadata": {},
   "source": [
    "## Getting the Data"
   ]
  },
  {
   "cell_type": "markdown",
   "id": "d5eba4d3",
   "metadata": {},
   "source": [
    "We decided to focus on the top 5 stocks from  https://yolostocks.live/, which tracks the most mentioned stocks on r/wallstreetbets."
   ]
  },
  {
   "cell_type": "markdown",
   "id": "39b256e9",
   "metadata": {},
   "source": [
    "## Cleaning the Data"
   ]
  }
 ],
 "metadata": {
  "language_info": {
   "name": "plaintext"
  }
 },
 "nbformat": 4,
 "nbformat_minor": 5
}
